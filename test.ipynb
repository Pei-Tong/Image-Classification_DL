{
 "cells": [
  {
   "cell_type": "code",
   "execution_count": 4,
   "metadata": {},
   "outputs": [
    {
     "name": "stdout",
     "output_type": "stream",
     "text": [
      "{'class': 'street', 'confidence': 0.9955832362174988}\n"
     ]
    }
   ],
   "source": [
    "# Check Flask execution status\n",
    "import requests\n",
    "\n",
    "url = \"http://127.0.0.1:5000/predict\"\n",
    "file_path = \"intel-image-classification/seg_test/seg_test/buildings/20061.jpg\" # choose a picture\n",
    "\n",
    "files = {\"file\": open(file_path, \"rb\")}  # load picture\n",
    "response = requests.post(url, files=files)  # send request\n",
    "print(response.json())  # display response"
   ]
  }
 ],
 "metadata": {
  "kernelspec": {
   "display_name": "ml",
   "language": "python",
   "name": "python3"
  },
  "language_info": {
   "codemirror_mode": {
    "name": "ipython",
    "version": 3
   },
   "file_extension": ".py",
   "mimetype": "text/x-python",
   "name": "python",
   "nbconvert_exporter": "python",
   "pygments_lexer": "ipython3",
   "version": "3.11.8"
  }
 },
 "nbformat": 4,
 "nbformat_minor": 2
}
